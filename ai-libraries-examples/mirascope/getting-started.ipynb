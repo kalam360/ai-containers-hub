{
 "cells": [
  {
   "cell_type": "code",
   "execution_count": 1,
   "metadata": {},
   "outputs": [
    {
     "data": {
      "text/plain": [
       "True"
      ]
     },
     "execution_count": 1,
     "metadata": {},
     "output_type": "execute_result"
    }
   ],
   "source": [
    "from dotenv import load_dotenv \n",
    "load_dotenv()"
   ]
  },
  {
   "cell_type": "code",
   "execution_count": 5,
   "metadata": {},
   "outputs": [],
   "source": [
    "from pydantic import BaseModel\n",
    "from mirascope.openai import OpenAICallParams, OpenAIExtractor, OpenAICall\n",
    "from mirascope.langfuse import with_langfuse"
   ]
  },
  {
   "cell_type": "code",
   "execution_count": 6,
   "metadata": {},
   "outputs": [
    {
     "name": "stdout",
     "output_type": "stream",
     "text": [
      "The capital city of Japan is Tokyo, which also serves as the administrative hub for the surrounding metropolitan area known as the Greater Tokyo Area.\n",
      "\n",
      "Tokyo, historically known as Edo, has been the de facto center of Japanese political and economic power since the early 17th century during the Edo period. The formal designation of Tokyo as the capital took place in 1868 following the Meiji Restoration. It became the cultural and administrative heart of the Empire of Japan, and after World War II, it continued as the capital of the modern democratic state.\n",
      "\n",
      "The city is an immense metropolis situated at the head of Tokyo Bay on Japan's Pacific coast. As the political center, Tokyo holds the seats of the Emperor of Japan and the Japanese government along with being a hub for national and local administration. The city also boasts a prominent role in shaping Japan's economy, culture, fashion, media, art, and academia.\n"
     ]
    }
   ],
   "source": [
    "@with_langfuse\n",
    "class GeographyGenius(OpenAICall):\n",
    "    prompt_template = \"What's the capital of {country}?\"\n",
    "    country: str\n",
    "    api_key = 'ollama'\n",
    "    base_url = \"http://localhost:11434/v1\"\n",
    "    call_params = OpenAICallParams(model=\"command-r\", temperature=1)\n",
    " \n",
    "genius = GeographyGenius(country=\"Japan\")\n",
    "response = genius.call()  # logs to langfuse\n",
    "print(response.content)"
   ]
  },
  {
   "cell_type": "code",
   "execution_count": null,
   "metadata": {},
   "outputs": [],
   "source": []
  }
 ],
 "metadata": {
  "kernelspec": {
   "display_name": "ai-containers-hub",
   "language": "python",
   "name": "python3"
  },
  "language_info": {
   "codemirror_mode": {
    "name": "ipython",
    "version": 3
   },
   "file_extension": ".py",
   "mimetype": "text/x-python",
   "name": "python",
   "nbconvert_exporter": "python",
   "pygments_lexer": "ipython3",
   "version": "3.11.9"
  }
 },
 "nbformat": 4,
 "nbformat_minor": 2
}
