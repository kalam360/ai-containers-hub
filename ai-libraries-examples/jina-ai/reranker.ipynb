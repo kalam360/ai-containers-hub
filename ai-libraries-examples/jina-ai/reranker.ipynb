{
 "cells": [
  {
   "cell_type": "code",
   "execution_count": 1,
   "metadata": {},
   "outputs": [],
   "source": [
    "import warnings\n",
    "warnings.filterwarnings(\"ignore\")"
   ]
  },
  {
   "cell_type": "code",
   "execution_count": 2,
   "metadata": {},
   "outputs": [],
   "source": [
    "import os\n",
    "from llama_index.core import (\n",
    "    VectorStoreIndex,\n",
    "    SimpleDirectoryReader\n",
    ")"
   ]
  },
  {
   "cell_type": "code",
   "execution_count": 3,
   "metadata": {},
   "outputs": [],
   "source": [
    "from sentence_transformers import CrossEncoder\n",
    "\n",
    "# Load the model, here we use our turbo sized model\n",
    "model = CrossEncoder(\"jinaai/jina-reranker-v1-turbo-en\", trust_remote_code=True)\n",
    "\n",
    "# Example query and documents\n",
    "query = \"Organic skincare products for sensitive skin\"\n",
    "documents = [\n",
    "    \"Eco-friendly kitchenware for modern homes\",\n",
    "    \"Biodegradable cleaning supplies for eco-conscious consumers\",\n",
    "    \"Organic cotton baby clothes for sensitive skin\",\n",
    "    \"Natural organic skincare range for sensitive skin\",\n",
    "    \"Tech gadgets for smart homes: 2024 edition\",\n",
    "    \"Sustainable gardening tools and compost solutions\",\n",
    "    \"Sensitive skin-friendly facial cleansers and toners\",\n",
    "    \"Organic food wraps and storage solutions\",\n",
    "    \"All-natural pet food for dogs with allergies\",\n",
    "    \"Yoga mats made from recycled materials\"\n",
    "]\n",
    "\n",
    "results = model.rank(query, documents, return_documents=True, top_k=3)"
   ]
  },
  {
   "cell_type": "code",
   "execution_count": 7,
   "metadata": {},
   "outputs": [
    {
     "data": {
      "text/plain": [
       "[{'corpus_id': 3,\n",
       "  'score': 0.8119039,\n",
       "  'text': 'Natural organic skincare range for sensitive skin'},\n",
       " {'corpus_id': 2,\n",
       "  'score': 0.42477363,\n",
       "  'text': 'Organic cotton baby clothes for sensitive skin'},\n",
       " {'corpus_id': 6,\n",
       "  'score': 0.16142645,\n",
       "  'text': 'Sensitive skin-friendly facial cleansers and toners'}]"
      ]
     },
     "execution_count": 7,
     "metadata": {},
     "output_type": "execute_result"
    }
   ],
   "source": [
    "results"
   ]
  },
  {
   "cell_type": "code",
   "execution_count": 8,
   "metadata": {},
   "outputs": [],
   "source": [
    "from transformers import AutoModelForSequenceClassification\n",
    "\n",
    "model = AutoModelForSequenceClassification.from_pretrained(\n",
    "    'jinaai/jina-reranker-v1-turbo-en', num_labels=1, trust_remote_code=True\n",
    ")\n",
    "\n",
    "# Example query and documents\n",
    "query = \"Organic skincare products for sensitive skin\"\n",
    "documents = [\n",
    "    \"Eco-friendly kitchenware for modern homes\",\n",
    "    \"Biodegradable cleaning supplies for eco-conscious consumers\",\n",
    "    \"Organic cotton baby clothes for sensitive skin\",\n",
    "    \"Natural organic skincare range for sensitive skin\",\n",
    "    \"Tech gadgets for smart homes: 2024 edition\",\n",
    "    \"Sustainable gardening tools and compost solutions\",\n",
    "    \"Sensitive skin-friendly facial cleansers and toners\",\n",
    "    \"Organic food wraps and storage solutions\",\n",
    "    \"All-natural pet food for dogs with allergies\",\n",
    "    \"Yoga mats made from recycled materials\"\n",
    "]\n",
    "\n",
    "# construct sentence pairs\n",
    "sentence_pairs = [[query, doc] for doc in documents]\n",
    "\n",
    "scores = model.compute_score(sentence_pairs)"
   ]
  },
  {
   "cell_type": "code",
   "execution_count": 9,
   "metadata": {},
   "outputs": [
    {
     "data": {
      "text/plain": [
       "[0.017595335841178894,\n",
       " 0.03397028148174286,\n",
       " 0.424773633480072,\n",
       " 0.8119038939476013,\n",
       " 0.014602242968976498,\n",
       " 0.016511093825101852,\n",
       " 0.16142645478248596,\n",
       " 0.03226659446954727,\n",
       " 0.027820076793432236,\n",
       " 0.02450426295399666]"
      ]
     },
     "execution_count": 9,
     "metadata": {},
     "output_type": "execute_result"
    }
   ],
   "source": [
    "scores"
   ]
  },
  {
   "cell_type": "code",
   "execution_count": null,
   "metadata": {},
   "outputs": [],
   "source": []
  }
 ],
 "metadata": {
  "kernelspec": {
   "display_name": "ai-containers-hub",
   "language": "python",
   "name": "python3"
  },
  "language_info": {
   "codemirror_mode": {
    "name": "ipython",
    "version": 3
   },
   "file_extension": ".py",
   "mimetype": "text/x-python",
   "name": "python",
   "nbconvert_exporter": "python",
   "pygments_lexer": "ipython3",
   "version": "3.11.9"
  }
 },
 "nbformat": 4,
 "nbformat_minor": 2
}
